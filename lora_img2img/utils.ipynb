{
 "cells": [
  {
   "cell_type": "markdown",
   "metadata": {},
   "source": [
    "[![Open In Colab](https://colab.research.google.com/assets/colab-badge.svg)](https://colab.research.google.com/github/Guidosalimbeni/aicaricaturist/blob/main/lora_img2img/utils.ipynb)"
   ]
  },
  {
   "cell_type": "code",
   "execution_count": null,
   "metadata": {},
   "outputs": [],
   "source": [
    "# Mount Google Drive\n",
    "from google.colab import drive\n",
    "drive.mount('/content/drive')"
   ]
  },
  {
   "cell_type": "code",
   "execution_count": null,
   "metadata": {},
   "outputs": [],
   "source": [
    "import torch\n",
    "from torchvision import transforms\n",
    "from PIL import Image\n",
    "import matplotlib.pyplot as plt\n",
    "import numpy as np\n",
    "\n",
    "def test_transformations(image_path, method=\"standard\"):\n",
    "    \"\"\"\n",
    "    Test different grayscale and normalization approaches\n",
    "    \n",
    "    Methods:\n",
    "    - \"standard\": Simple grayscale + [-1,1] normalization\n",
    "    - \"minmax\": MinMax scaling to [-1,1]\n",
    "    - \"meanstd\": Mean-std normalization\n",
    "    - \"raw\": Just convert to grayscale, no normalization\n",
    "    \"\"\"\n",
    "    # Load image\n",
    "    img = Image.open(image_path).convert('L')\n",
    "    \n",
    "    # Base transform (just resize and convert to tensor)\n",
    "    base_transform = transforms.Compose([\n",
    "        transforms.Resize((256, 256), interpolation=transforms.InterpolationMode.BILINEAR),\n",
    "        transforms.ToTensor(),\n",
    "    ])\n",
    "    \n",
    "    # Apply base transform\n",
    "    tensor = base_transform(img)\n",
    "    \n",
    "    # Apply different normalizations based on method\n",
    "    if method == \"standard\":\n",
    "        # Scale to [-1, 1]\n",
    "        tensor = 2 * tensor - 1\n",
    "    elif method == \"minmax\":\n",
    "        # MinMax scaling to [-1, 1]\n",
    "        min_val = tensor.min()\n",
    "        max_val = tensor.max()\n",
    "        tensor = 2 * (tensor - min_val) / (max_val - min_val) - 1\n",
    "    elif method == \"meanstd\":\n",
    "        # Mean-std normalization\n",
    "        mean = tensor.mean()\n",
    "        std = tensor.std()\n",
    "        tensor = (tensor - mean) / std\n",
    "    # \"raw\" method doesn't need additional normalization\n",
    "    \n",
    "    # Repeat channels for model compatibility\n",
    "    tensor_3ch = tensor.repeat(3, 1, 1)\n",
    "    \n",
    "    # Visualize results\n",
    "    fig, axes = plt.subplots(1, 3, figsize=(15, 5))\n",
    "    \n",
    "    # Original grayscale\n",
    "    axes[0].imshow(img, cmap='gray')\n",
    "    axes[0].set_title('Original Grayscale')\n",
    "    axes[0].axis('off')\n",
    "    \n",
    "    # Normalized (single channel)\n",
    "    axes[1].imshow(tensor.squeeze(), cmap='gray')\n",
    "    axes[1].set_title(f'Normalized ({method})\\nRange: [{tensor.min():.2f}, {tensor.max():.2f}]')\n",
    "    axes[1].axis('off')\n",
    "    \n",
    "    # 3-channel repeated\n",
    "    axes[2].imshow(tensor_3ch.permute(1, 2, 0))\n",
    "    axes[2].set_title('3-Channel Repeated')\n",
    "    axes[2].axis('off')\n",
    "    \n",
    "    plt.tight_layout()\n",
    "    return tensor, tensor_3ch\n",
    "\n",
    "# Example usage:\n",
    "image_path = \"/content/drive/MyDrive/caricature Project Diffusion/paired_caricature/001_f.png\"\n",
    "# Try different methods\n",
    "for method in [\"standard\", \"minmax\", \"meanstd\", \"raw\"]:\n",
    "    print(f\"\\nTesting {method} method:\")\n",
    "    single_ch, three_ch = test_transformations(image_path, method)\n",
    "    plt.show()"
   ]
  }
 ],
 "metadata": {
  "kernelspec": {
   "display_name": ".venv",
   "language": "python",
   "name": "python3"
  },
  "language_info": {
   "name": "python",
   "version": "3.13.1"
  }
 },
 "nbformat": 4,
 "nbformat_minor": 2
}
