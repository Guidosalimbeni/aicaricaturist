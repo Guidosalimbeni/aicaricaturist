{
  "cells": [
    {
      "cell_type": "markdown",
      "metadata": {},
      "source": [
        "# Pix2Pix Caricature Generation\n",
        "\n",
        "[![Open In Colab](https://colab.research.google.com/assets/colab-badge.svg)](https://colab.research.google.com/github/USERNAME/REPO/blob/main/pix2pix_caricature/caricature_training.ipynb)\n",
        "\n",
        "This notebook implements a Pix2Pix model for face-to-caricature translation."
      ]
    },
    {
      "cell_type": "code",
      "execution_count": null,
      "metadata": {},
      "source": [
        "# Install required packages\n",
        "!pip install tensorflow tensorflow_addons"
      ]
    },
    {
      "cell_type": "code",
      "execution_count": null,
      "metadata": {},
      "source": [
        "import tensorflow as tf\n",
        "import tensorflow_addons as tfa\n",
        "import numpy as np\n",
        "import matplotlib.pyplot as plt\n",
        "import os\n",
        "from google.colab import drive\n",
        "from datetime import datetime"
      ]
    },
    {
      "cell_type": "markdown",
      "metadata": {},
      "source": [
        "## Mount Google Drive"
      ]
    },
    {
      "cell_type": "code",
      "execution_count": null,
      "metadata": {},
      "source": [
        "# Mount Google Drive\n",
        "drive.mount('/content/drive')\n",
        "\n",
        "# Set data directory\n",
        "DATA_DIR = '/content/drive/MyDrive/caricature Project Diffusion/paired_caricature'\n",
        "CHECKPOINT_DIR = '/content/drive/MyDrive/caricature_checkpoints'"
      ]
    },
    {
      "cell_type": "markdown",
      "metadata": {},
      "source": [
        "## Data Loading and Preprocessing"
      ]
    },
    {
      "cell_type": "code",
      "execution_count": null,
      "metadata": {},
      "source": [
        "def load_image(image_path):\n",
        "    image = tf.io.read_file(image_path)\n",
        "    image = tf.image.decode_png(image, channels=3)\n",
        "    image = tf.cast(image, tf.float32)\n",
        "    image = (image / 127.5) - 1  # Normalize to [-1, 1]\n",
        "    return image\n",
        "\n",
        "def load_paired_images(face_path, caricature_path):\n",
        "    face = load_image(face_path)\n",
        "    caricature = load_image(caricature_path)\n",
        "    return face, caricature\n",
        "\n",
        "# Create pairs of image paths\n",
        "face_paths = sorted([os.path.join(DATA_DIR, f) for f in os.listdir(DATA_DIR) if f.endswith('_f.png')])\n",
        "caricature_paths = sorted([os.path.join(DATA_DIR, f) for f in os.listdir(DATA_DIR) if f.endswith('_c.png')])\n",
        "\n",
        "# Create TensorFlow dataset\n",
        "dataset = tf.data.Dataset.from_tensor_slices((face_paths, caricature_paths))\n",
        "dataset = dataset.map(lambda x, y: tf.py_function(\n",
        "    load_paired_images, [x, y], [tf.float32, tf.float32]),\n",
        "    num_parallel_calls=tf.data.AUTOTUNE)"
      ]
    },
    {
      "cell_type": "markdown",
      "metadata": {},
      "source": [
        "## Data Augmentation"
      ]
    },
    {
      "cell_type": "code",
      "execution_count": null,
      "metadata": {},
      "source": [
        "def augment(face_image, caricature_image):\n",
        "    # Stack images to apply same augmentation\n",
        "    stacked = tf.stack([face_image, caricature_image], axis=0)\n",
        "    \n",
        "    # Random horizontal flip\n",
        "    if tf.random.uniform([]) > 0.5:\n",
        "        stacked = tf.image.flip_left_right(stacked)\n",
        "    \n",
        "    # Random translation\n",
        "    pad_size = 51  # 10% of 512\n",
        "    padded = tf.pad(stacked, [[0,0], [pad_size,pad_size], [pad_size,pad_size], [0,0]], mode='REFLECT')\n",
        "    crop_size = 512\n",
        "    y = tf.random.uniform([], 0, 2*pad_size, dtype=tf.int32)\n",
        "    x = tf.random.uniform([], 0, 2*pad_size, dtype=tf.int32)\n",
        "    stacked = tf.image.crop_to_bounding_box(padded, y, x, crop_size, crop_size)\n",
        "    \n",
        "    return stacked[0], stacked[1]\n",
        "\n",
        "# Apply augmentation to dataset\n",
        "augmented_dataset = dataset.map(augment, num_parallel_calls=tf.data.AUTOTUNE)\n",
        "BATCH_SIZE = 1\n",
        "train_dataset = augmented_dataset.batch(BATCH_SIZE).prefetch(tf.data.AUTOTUNE)"
      ]
    },
    {
      "cell_type": "markdown",
      "metadata": {},
      "source": [
        "## Pix2Pix Model Implementation"
      ]
    },
    {
      "cell_type": "code",
      "execution_count": null,
      "metadata": {},
      "source": [
        "def downsample(filters, size, apply_batchnorm=True):\n",
        "    initializer = tf.random_normal_initializer(0., 0.02)\n",
        "    result = tf.keras.Sequential()\n",
        "    result.add(tf.keras.layers.Conv2D(filters, size, strides=2, padding='same',\n",
        "                                      kernel_initializer=initializer, use_bias=False))\n",
        "    if apply_batchnorm:\n",
        "        result.add(tf.keras.layers.BatchNormalization())\n",
        "    result.add(tf.keras.layers.LeakyReLU())\n",
        "    return result\n",
        "\n",
        "def upsample(filters, size, apply_dropout=False):\n",
        "    initializer = tf.random_normal_initializer(0., 0.02)\n",
        "    result = tf.keras.Sequential()\n",
        "    result.add(tf.keras.layers.Conv2DTranspose(filters, size, strides=2, padding='same',\n",
        "                                               kernel_initializer=initializer, use_bias=False))\n",
        "    result.add(tf.keras.layers.BatchNormalization())\n",
        "    if apply_dropout:\n",
        "        result.add(tf.keras.layers.Dropout(0.5))\n",
        "    result.add(tf.keras.layers.ReLU())\n",
        "    return result\n",
        "\n",
        "def Generator():\n",
        "    inputs = tf.keras.layers.Input(shape=[512, 512, 3])\n",
        "    \n",
        "    # Encoder\n",
        "    down_stack = [\n",
        "        downsample(64, 4, apply_batchnorm=False),  # (256, 256)\n",
        "        downsample(128, 4),  # (128, 128)\n",
        "        downsample(256, 4),  # (64, 64)\n",
        "        downsample(512, 4),  # (32, 32)\n",
        "        downsample(512, 4),  # (16, 16)\n",
        "        downsample(512, 4),  # (8, 8)\n",
        "        downsample(512, 4),  # (4, 4)\n",
        "        downsample(512, 4),  # (2, 2)\n",
        "    ]\n",
        "    \n",
        "    # Decoder\n",
        "    up_stack = [\n",
        "        upsample(512, 4, apply_dropout=True),  # (4, 4)\n",
        "        upsample(512, 4, apply_dropout=True),  # (8, 8)\n",
        "        upsample(512, 4, apply_dropout=True),  # (16, 16)\n",
        "        upsample(512, 4),  # (32, 32)\n",
        "        upsample(256, 4),  # (64, 64)\n",
        "        upsample(128, 4),  # (128, 128)\n",
        "        upsample(64, 4),   # (256, 256)\n",
        "    ]\n",
        "    \n",
        "    initializer = tf.random_normal_initializer(0., 0.02)\n",
        "    last = tf.keras.layers.Conv2DTranspose(3, 4, strides=2, padding='same',\n",
        "                                           kernel_initializer=initializer,\n",
        "                                           activation='tanh')  # (512, 512)\n",
        "    \n",
        "    x = inputs\n",
        "    skips = []\n",
        "    for down in down_stack:\n",
        "        x = down(x)\n",
        "        skips.append(x)\n",
        "    \n",
        "    skips = reversed(skips[:-1])\n",
        "    for up, skip in zip(up_stack, skips):\n",
        "        x = up(x)\n",
        "        x = tf.keras.layers.Concatenate()([x, skip])\n",
        "    \n",
        "    x = last(x)\n",
        "    return tf.keras.Model(inputs=inputs, outputs=x)\n",
        "\n",
        "def Discriminator():\n",
        "    initializer = tf.random_normal_initializer(0., 0.02)\n",
        "    \n",
        "    inp = tf.keras.layers.Input(shape=[512, 512, 3], name='input_image')\n",
        "    tar = tf.keras.layers.Input(shape=[512, 512, 3], name='target_image')\n",
        "    \n",
        "    x = tf.keras.layers.concatenate([inp, tar])\n",
        "    \n",
        "    down1 = downsample(64, 4, False)(x)\n",
        "    down2 = downsample(128, 4)(down1)\n",
        "    down3 = downsample(256, 4)(down2)\n",
        "    \n",
        "    zero_pad1 = tf.keras.layers.ZeroPadding2D()(down3)\n",
        "    conv = tf.keras.layers.Conv2D(512, 4, strides=1,\n",
        "                                  kernel_initializer=initializer,\n",
        "                                  use_bias=False)(zero_pad1)\n",
        "    \n",
        "    batchnorm1 = tf.keras.layers.BatchNormalization()(conv)\n",
        "    leaky_relu = tf.keras.layers.LeakyReLU()(batchnorm1)\n",
        "    \n",
        "    zero_pad2 = tf.keras.layers.ZeroPadding2D()(leaky_relu)\n",
        "    last = tf.keras.layers.Conv2D(1, 4, strides=1,\n",
        "                                  kernel_initializer=initializer)(zero_pad2)\n",
        "    \n",
        "    return tf.keras.Model(inputs=[inp, tar], outputs=last)\n",
        "\n",
        "generator = Generator()\n",
        "discriminator = Discriminator()\n",
        "\n",
        "generator_optimizer = tf.keras.optimizers.Adam(2e-4, beta_1=0.5)\n",
        "discriminator_optimizer = tf.keras.optimizers.Adam(2e-4, beta_1=0.5)"
      ]
    },
    {
      "cell_type": "markdown",
      "metadata": {},
      "source": [
        "## Loss Functions"
      ]
    },
    {
      "cell_type": "code",
      "execution_count": null,
      "metadata": {},
      "source": [
        "LAMBDA = 100\n",
        "\n",
        "def generator_loss(disc_generated_output, gen_output, target):\n",
        "    gan_loss = tf.keras.losses.BinaryCrossentropy(from_logits=True)(\n",
        "        tf.ones_like(disc_generated_output), disc_generated_output)\n",
        "    \n",
        "    l1_loss = tf.reduce_mean(tf.abs(target - gen_output))\n",
        "    total_gen_loss = gan_loss + (LAMBDA * l1_loss)\n",
        "    \n",
        "    return total_gen_loss, gan_loss, l1_loss\n",
        "\n",
        "def discriminator_loss(disc_real_output, disc_generated_output):\n",
        "    real_loss = tf.keras.losses.BinaryCrossentropy(from_logits=True)(\n",
        "        tf.ones_like(disc_real_output), disc_real_output)\n",
        "    \n",
        "    generated_loss = tf.keras.losses.BinaryCrossentropy(from_logits=True)(\n",
        "        tf.zeros_like(disc_generated_output), disc_generated_output)\n",
        "    \n",
        "    total_disc_loss = real_loss + generated_loss\n",
        "    \n",
        "    return total_disc_loss"
      ]
    },
    {
      "cell_type": "markdown",
      "metadata": {},
      "source": [
        "## Training"
      ]
    },
    {
      "cell_type": "code",
      "execution_count": null,
      "metadata": {},
      "source": [
        "@tf.function\n",
        "def train_step(input_image, target):\n",
        "    with tf.GradientTape() as gen_tape, tf.GradientTape() as disc_tape:\n",
        "        gen_output = generator(input_image, training=True)\n",
        "        \n",
        "        disc_real_output = discriminator([input_image, target], training=True)\n",
        "        disc_generated_output = discriminator([input_image, gen_output], training=True)\n",
        "        \n",
        "        gen_total_loss, gen_gan_loss, gen_l1_loss = generator_loss(disc_generated_output, gen_output, target)\n",
        "        disc_loss = discriminator_loss(disc_real_output, disc_generated_output)\n",
        "    \n",
        "    generator_gradients = gen_tape.gradient(gen_total_loss, generator.trainable_variables)\n",
        "    discriminator_gradients = disc_tape.gradient(disc_loss, discriminator.trainable_variables)\n",
        "    \n",
        "    generator_optimizer.apply_gradients(zip(generator_gradients, generator.trainable_variables))\n",
        "    discriminator_optimizer.apply_gradients(zip(discriminator_gradients, discriminator.trainable_variables))\n",
        "    \n",
        "    return gen_total_loss, disc_loss\n",
        "\n",
        "def train(dataset, epochs):\n",
        "    for epoch in range(epochs):\n",
        "        start = time.time()\n",
        "        \n",
        "        for input_image, target in dataset:\n",
        "            gen_loss, disc_loss = train_step(input_image, target)\n",
        "        \n",
        "        if (epoch + 1) % 20 == 0:\n",
        "            checkpoint_prefix = os.path.join(CHECKPOINT_DIR, f\"ckpt_epoch_{epoch}\")\n",
        "            generator.save_weights(checkpoint_prefix + '_generator.h5')\n",
        "            discriminator.save_weights(checkpoint_prefix + '_discriminator.h5')\n",
        "        \n",
        "        print(f'Epoch {epoch+1}, Gen Loss: {gen_loss:.4f}, Disc Loss: {disc_loss:.4f}')\n",
        "        print(f'Time taken for epoch {epoch+1}: {time.time()-start:.2f} sec')\n",
        "\n",
        "# Create checkpoint directory\n",
        "if not os.path.exists(CHECKPOINT_DIR):\n",
        "    os.makedirs(CHECKPOINT_DIR)\n",
        "\n",
        "# Train the model\n",
        "EPOCHS = 200\n",
        "train(train_dataset, EPOCHS)"
      ]
    },
    {
      "cell_type": "markdown",
      "metadata": {},
      "source": [
        "## Inference"
      ]
    },
    {
      "cell_type": "code",
      "execution_count": null,
      "metadata": {},
      "source": [
        "def generate_caricature(face_image_path, checkpoint_path):\n",
        "    # Load the generator weights\n",
        "    generator.load_weights(checkpoint_path + '_generator.h5')\n",
        "    \n",
        "    # Load and preprocess the input image\n",
        "    input_image = load_image(face_image_path)\n",
        "    input_image = tf.expand_dims(input_image, 0)\n",
        "    \n",
        "    # Generate prediction\n",
        "    prediction = generator(input_image, training=False)\n",
        "    \n",
        "    # Convert the prediction back to uint8 format\n",
        "    prediction = (prediction * 0.5 + 0.5) * 255\n",
        "    prediction = tf.cast(prediction, tf.uint8)\n",
        "    \n",
        "    return prediction[0]\n",
        "\n",
        "# Example usage:\n",
        "# checkpoint_path = os.path.join(CHECKPOINT_DIR, 'ckpt_epoch_199')\n",
        "# generated_caricature = generate_caricature('path_to_face_image.png', checkpoint_path)\n",
        "# plt.imshow(generated_caricature)\n",
        "# plt.axis('off')\n",
        "# plt.show()"
      ]
    }
  ],
  "metadata": {
    "accelerator": "GPU",
    "colab": {
      "gpuType": "T4",
      "provenance": []
    },
    "kernelspec": {
      "display_name": "Python 3",
      "name": "python3"
    },
    "language_info": {
      "name": "python"
    }
  },
  "nbformat": 4,
  "nbformat_minor": 0
}
